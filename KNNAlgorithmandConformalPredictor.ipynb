{
 "cells": [
  {
   "cell_type": "markdown",
   "metadata": {},
   "source": [
    "# Implementing the K Nearest Neighbours algorithm for a general K."
   ]
  },
  {
   "cell_type": "code",
   "execution_count": 560,
   "metadata": {},
   "outputs": [
    {
     "name": "stdout",
     "output_type": "stream",
     "text": [
      "Enter the value of number of neighbors: 3\n",
      "Test Error rate is:  0.05263157894736842\n",
      "Execution time:  4.343353748321533 seconds\n"
     ]
    }
   ],
   "source": [
    "import numpy as np\n",
    "import math\n",
    "import time\n",
    "from sklearn.datasets import load_iris\n",
    "from sklearn.model_selection import train_test_split\n",
    "\n",
    "def getDistances(X_test,X_train):\n",
    "    distances = []\n",
    "    \"\"\"Function to calculate Euclidian distance between the test data point and training data point\"\"\"\n",
    "    for j in range(X_test.shape[0]):\n",
    "        for i in range(X_train.shape[0]):    \n",
    "            distances.append(math.sqrt(sum(((X_test[j]-X_train[i])**2))))\n",
    "    distances = np.array(distances).reshape(X_test.shape[0],X_train.shape[0])# each row stores disnces to corresponding test set.eg. row0, contains distance between test set1 and 112 training data\n",
    "    return distances\n",
    "def getNeighborsIndex(distances,X_test,X_train,num_neighbors=1):\n",
    "    \"\"\"Function to find the indexes of the neighbors\"\"\" \n",
    "    neighbors_idx = np.array([])\n",
    "    for n in range(distances.shape[0]):    \n",
    "        neighbors_idx = np.append(neighbors_idx , np.argpartition(distances[n], num_neighbors))\n",
    "    neighbors_idx = neighbors_idx.reshape(X_test.shape[0],X_train.shape[0])#first 'num_neighbors' columns of the neighbors_idx contains the index of the nearest neighbors in training point\n",
    "    kneighbors_idx = neighbors_idx[:,:num_neighbors].astype(int)\n",
    "    return kneighbors_idx\n",
    "\n",
    "def predictLabel(kneighbors_idx,num_neighbors=1):\n",
    "    \"\"\"Function to predict the labels\"\"\"\n",
    "    yhat= np.array([])\n",
    "    for m in range(kneighbors_idx.shape[0]):\n",
    "        neighbors_label = []\n",
    "        for p in range(num_neighbors):\n",
    "            idx =  kneighbors_idx[m][p]#accessing neighbors index from kneighbors_idx array\n",
    "            neighbors_label.append(y_train[idx])#accessing the label of the neighbors from the ytrain\n",
    "\n",
    "        vote_dict = {q:neighbors_label.count(q) for q in neighbors_label}    \n",
    "        yhat = np.append(yhat,max(vote_dict, key=vote_dict.get))\n",
    "        yhat = yhat.astype(int)\n",
    "    return yhat\n",
    "\n",
    "X = np.genfromtxt(\"iris_data.txt\")\n",
    "y = np.genfromtxt(\"iris_target.txt\")\n",
    "k = int(input(\"Enter the value of number of neighbors: \"))\n",
    "X_train,X_test,y_train, y_test = train_test_split(X, y, random_state = 709)\n",
    "distances = getDistances(X_test,X_train)\n",
    "kneighbors_idx = getNeighborsIndex(distances,X_test,X_train, num_neighbors = k)\n",
    "yhat=predictLabel(kneighbors_idx,num_neighbors = k)\n",
    "print(\"Test Error rate is: \",np.mean(yhat!=y_test))       \n"
   ]
  },
  {
   "cell_type": "markdown",
   "metadata": {},
   "source": [
    "# iris.txt and K = 1"
   ]
  },
  {
   "cell_type": "code",
   "execution_count": 551,
   "metadata": {},
   "outputs": [
    {
     "name": "stdout",
     "output_type": "stream",
     "text": [
      "Test Error rate is:  0.07894736842105263\n",
      "Execution time:  0.023937463760375977 seconds\n"
     ]
    }
   ],
   "source": [
    "import numpy as np\n",
    "import math\n",
    "import time\n",
    "from sklearn.datasets import load_iris\n",
    "from sklearn.model_selection import train_test_split\n",
    "\n",
    "def getDistances(X_test,X_train):\n",
    "    distances = []\n",
    "    \"\"\"Function to calculate Euclidian distance between the test data point and training data point\"\"\"\n",
    "    for j in range(X_test.shape[0]):\n",
    "        for i in range(X_train.shape[0]):    \n",
    "            distances.append(math.sqrt(sum(((X_test[j]-X_train[i])**2))))\n",
    "    distances = np.array(distances).reshape(X_test.shape[0],X_train.shape[0])# each row stores disnces to corresponding test set.eg. row0, contains distance between test set1 and 112 training data\n",
    "    return distances\n",
    "def getNeighborsIndex(distances,X_test,X_train):\n",
    "    \"\"\"Function to find the indexes of the neighbors\"\"\" \n",
    "    neighbors_idx = np.array([])\n",
    "    for n in range(distances.shape[0]):    \n",
    "        neighbors_idx = np.append(neighbors_idx , np.argpartition(distances[n], num_neighbors))\n",
    "    neighbors_idx = neighbors_idx.reshape(X_test.shape[0],X_train.shape[0])#first 'num_neighbors' columns of the neighbors_idx contains the index of the nearest neighbors in training point\n",
    "    kneighbors_idx = neighbors_idx[:,:num_neighbors].astype(int)\n",
    "    return kneighbors_idx\n",
    "\n",
    "def predictLabel(kneighbors_idx,num_neighbors=1):\n",
    "    \"\"\"Function to predict the labels\"\"\"\n",
    "    yhat= np.array([])\n",
    "    for m in range(kneighbors_idx.shape[0]):\n",
    "        neighbors_label = []\n",
    "        for p in range(num_neighbors):\n",
    "            idx =  kneighbors_idx[m][p]#accessing neighbors index from kneighbors_idx array\n",
    "            neighbors_label.append(y_train[idx])#accessing the label of the neighbors from the ytrain\n",
    "\n",
    "        vote_dict = {q:neighbors_label.count(q) for q in neighbors_label}    \n",
    "        yhat = np.append(yhat,max(vote_dict, key=vote_dict.get))\n",
    "        yhat = yhat.astype(int)\n",
    "    return yhat\n",
    "\n",
    "X = np.genfromtxt(\"iris_data.txt\")\n",
    "y = np.genfromtxt(\"iris_target.txt\")\n",
    "start = time.time()\n",
    "k=1\n",
    "X_train,X_test,y_train, y_test = train_test_split(X, y, random_state = 709)\n",
    "distances = getDistances(X_test,X_train)\n",
    "kneighbors_idx = getNeighborsIndex(distances,X_test,X_train)\n",
    "yhat=predictLabel(kneighbors_idx,num_neighbors=k)\n",
    "print(\"Test Error rate is: \",np.mean(yhat!=y_test))\n",
    "print(\"Execution time: \", time.time()-start, \"seconds\")       \n",
    "    "
   ]
  },
  {
   "cell_type": "markdown",
   "metadata": {},
   "source": [
    "# Validating iris.txt and K = 1"
   ]
  },
  {
   "cell_type": "code",
   "execution_count": 552,
   "metadata": {},
   "outputs": [
    {
     "name": "stdout",
     "output_type": "stream",
     "text": [
      "Test Error rate is :  0.07894736842105265\n",
      "Execution time:  0.015957117080688477 seconds\n"
     ]
    }
   ],
   "source": [
    "import numpy as np\n",
    "from sklearn.model_selection import train_test_split\n",
    "from sklearn.neighbors import KNeighborsClassifier\n",
    "from sklearn.datasets import load_iris\n",
    "import time\n",
    "start = time.time()\n",
    "k=1\n",
    "X = np.genfromtxt(\"iris_data.txt\")\n",
    "y = np.genfromtxt(\"iris_target.txt\")\n",
    "X_train,X_test,y_train, y_test = train_test_split(X, y, random_state = 709)\n",
    "knn = KNeighborsClassifier(n_neighbors = 1)\n",
    "knn.fit(X_train, y_train)\n",
    "knn.predict(X_test)\n",
    "score = knn.score(X_test, y_test)\n",
    "print(\"Test Error rate is : \",(1-score))\n",
    "print(\"Execution time: \", time.time()-start, \"seconds\")"
   ]
  },
  {
   "cell_type": "markdown",
   "metadata": {},
   "source": [
    "# ionosphere.txt and K = 1"
   ]
  },
  {
   "cell_type": "code",
   "execution_count": 524,
   "metadata": {},
   "outputs": [
    {
     "name": "stdout",
     "output_type": "stream",
     "text": [
      "0.8977272727272727\n",
      "0.3924741744995117\n"
     ]
    }
   ],
   "source": [
    "import numpy as np\n",
    "import math\n",
    "import time\n",
    "from sklearn.datasets import load_iris\n",
    "from sklearn.model_selection import train_test_split\n",
    "\n",
    "def getDistances(X_test,X_train):\n",
    "    distances = []\n",
    "    \"\"\"Function to calculate Euclidian distance between the test data point and training data point\"\"\"\n",
    "    for j in range(X_test.shape[0]):\n",
    "        for i in range(X_train.shape[0]):    \n",
    "            distances.append(math.sqrt(sum(((X_test[j]-X_train[i])**2))))\n",
    "    distances = np.array(distances).reshape(X_test.shape[0],X_train.shape[0])# each row stores disnces to corresponding test set.eg. row0, contains distance between test set1 and 112 training data\n",
    "    return distances\n",
    "def getNeighborsIndex(distances,X_test,X_train):\n",
    "    # finding nearest neighbors\n",
    "    neighbors_idx = np.array([])\n",
    "    for n in range(distances.shape[0]):    \n",
    "        neighbors_idx = np.append(neighbors_idx , np.argpartition(distances[n], num_neighbors))\n",
    "    neighbors_idx = neighbors_idx.reshape(X_test.shape[0],X_train.shape[0])#first 'num_neighbors' columns of the neighbors_idx contains the index of the nearest neighbors in training point\n",
    "    kneighbors_idx = neighbors_idx[:,:num_neighbors].astype(int)\n",
    "    return kneighbors_idx\n",
    "    \n",
    "def predictLabel(kneighbors_idx,num_neighbors=1):\n",
    "    #prediction:\n",
    "    yhat= np.array([])\n",
    "    for m in range(kneighbors_idx.shape[0]):\n",
    "        neighbors_label = []\n",
    "        for p in range(num_neighbors):\n",
    "            idx =  kneighbors_idx[m][p]#accessing neighbors index from kneighbors_idx array\n",
    "            neighbors_label.append(y_train[idx])#accessing the label of the neighbors from the ytrain\n",
    "\n",
    "        vote_dict = {q:neighbors_label.count(q) for q in neighbors_label}    \n",
    "        yhat = np.append(yhat,max(vote_dict, key=vote_dict.get))\n",
    "        yhat = yhat.astype(int)\n",
    "    return yhat\n",
    "\n",
    "start = time.time()\n",
    "X = np.genfromtxt(\"ionosphere.txt\", delimiter = \",\", usecols = np.arange(34))\n",
    "y = np.genfromtxt(\"ionosphere.txt\", delimiter = \",\", usecols = 34, dtype = int)\n",
    "X_train,X_test,y_train, y_test = train_test_split(X, y, random_state = 709)\n",
    "distances = getDistances(X_test,X_train)\n",
    "kneighbors_idx = getNeighborsIndex(distances,X_test,X_train)\n",
    "yhat = predictLabel(kneighbors_idx,num_neighbors=1)\n",
    "print(\"Test Error rate is: \",np.mean(yhat!=y_test))\n",
    "print(\"Execution time: \", time.time()-start, \"seconds\")\n",
    "        \n",
    "    "
   ]
  },
  {
   "cell_type": "markdown",
   "metadata": {},
   "source": [
    "# Validating ionosphere.txt and K = 1"
   ]
  },
  {
   "cell_type": "code",
   "execution_count": 547,
   "metadata": {},
   "outputs": [
    {
     "name": "stdout",
     "output_type": "stream",
     "text": [
      "0.8977272727272727\n",
      "0.0249326229095459\n"
     ]
    }
   ],
   "source": [
    "import numpy as np\n",
    "from sklearn.model_selection import train_test_split\n",
    "from sklearn.neighbors import KNeighborsClassifier\n",
    "from sklearn.datasets import load_iris\n",
    "import time\n",
    "start = time.time()\n",
    "X = np.genfromtxt(\"ionosphere.txt\", delimiter = \",\", usecols = np.arange(34))\n",
    "y = np.genfromtxt(\"ionosphere.txt\", delimiter = \",\", usecols = 34, dtype = int)\n",
    "knn = KNeighborsClassifier(n_neighbors = 1)\n",
    "X_train, X_test, y_train, y_test = train_test_split(X, y, random_state = 709)\n",
    "knn.fit(X_train, y_train)\n",
    "knn.predict(X_test)\n",
    "print(\"Test Error rate is : \",(1-score))\n",
    "print(\"Execution time: \", time.time()-start, \"seconds\")"
   ]
  },
  {
   "cell_type": "markdown",
   "metadata": {},
   "source": [
    "# iris.txt and K = 3"
   ]
  },
  {
   "cell_type": "code",
   "execution_count": 553,
   "metadata": {},
   "outputs": [
    {
     "name": "stdout",
     "output_type": "stream",
     "text": [
      "Test Error rate is:  0.05263157894736842\n",
      "Execution time:  0.026899099349975586 seconds\n"
     ]
    }
   ],
   "source": [
    "import numpy as np\n",
    "import math\n",
    "import time\n",
    "from sklearn.datasets import load_iris\n",
    "from sklearn.model_selection import train_test_split\n",
    "\n",
    "def getDistances(X_test,X_train):\n",
    "    distances = []\n",
    "    \"\"\"Function to calculate Euclidian distance between the test data point and training data point\"\"\"\n",
    "    for j in range(X_test.shape[0]):\n",
    "        for i in range(X_train.shape[0]):    \n",
    "            distances.append(math.sqrt(sum(((X_test[j]-X_train[i])**2))))\n",
    "    distances = np.array(distances).reshape(X_test.shape[0],X_train.shape[0])# each row stores disnces to corresponding test set.eg. row0, contains distance between test set1 and 112 training data\n",
    "    return distances\n",
    "def getNeighborsIndex(distances,X_test,X_train,num_neighbors=1):\n",
    "    \"\"\"Function to find the indexes of the neighbors\"\"\" \n",
    "    neighbors_idx = np.array([])\n",
    "    for n in range(distances.shape[0]):    \n",
    "        neighbors_idx = np.append(neighbors_idx , np.argpartition(distances[n], num_neighbors))\n",
    "    neighbors_idx = neighbors_idx.reshape(X_test.shape[0],X_train.shape[0])#first 'num_neighbors' columns of the neighbors_idx contains the index of the nearest neighbors in training point\n",
    "    kneighbors_idx = neighbors_idx[:,:num_neighbors].astype(int)\n",
    "    return kneighbors_idx\n",
    "\n",
    "def predictLabel(kneighbors_idx,num_neighbors=1):\n",
    "    \"\"\"Function to predict the labels\"\"\"\n",
    "    yhat= np.array([])\n",
    "    for m in range(kneighbors_idx.shape[0]):\n",
    "        neighbors_label = []\n",
    "        for p in range(num_neighbors):\n",
    "            idx =  kneighbors_idx[m][p]#accessing neighbors index from kneighbors_idx array\n",
    "            neighbors_label.append(y_train[idx])#accessing the label of the neighbors from the ytrain\n",
    "\n",
    "        vote_dict = {q:neighbors_label.count(q) for q in neighbors_label}    \n",
    "        yhat = np.append(yhat,max(vote_dict, key=vote_dict.get))\n",
    "        yhat = yhat.astype(int)\n",
    "    return yhat\n",
    "\n",
    "start = time.time()\n",
    "k=3\n",
    "X = np.genfromtxt(\"iris_data.txt\")\n",
    "y = np.genfromtxt(\"iris_target.txt\")\n",
    "X_train,X_test,y_train, y_test = train_test_split(X, y, random_state = 709)\n",
    "distances = getDistances(X_test,X_train)\n",
    "kneighbors_idx = getNeighborsIndex(distances,X_test,X_train,num_neighbors=k)\n",
    "yhat=predictLabel(kneighbors_idx,num_neighbors=k)\n",
    "print(\"Test Error rate is: \",np.mean(yhat!=y_test))\n",
    "print(\"Execution time: \", time.time()-start, \"seconds\")"
   ]
  },
  {
   "cell_type": "markdown",
   "metadata": {},
   "source": [
    "# Validating iris.txt and K = 3"
   ]
  },
  {
   "cell_type": "code",
   "execution_count": 554,
   "metadata": {},
   "outputs": [
    {
     "name": "stdout",
     "output_type": "stream",
     "text": [
      "Test Error rate is :  0.052631578947368474\n",
      "Execution time:  0.008975982666015625 seconds\n"
     ]
    }
   ],
   "source": [
    "import numpy as np\n",
    "from sklearn.model_selection import train_test_split\n",
    "from sklearn.neighbors import KNeighborsClassifier\n",
    "from sklearn.datasets import load_iris\n",
    "import time\n",
    "start = time.time()\n",
    "knn = KNeighborsClassifier(n_neighbors = 3)\n",
    "X = np.genfromtxt(\"iris_data.txt\")\n",
    "y = np.genfromtxt(\"iris_target.txt\")\n",
    "X_train,X_test,y_train, y_test = train_test_split(X, y, random_state = 709)\n",
    "knn.fit(X_train, y_train)\n",
    "knn.predict(X_test)\n",
    "score = knn.score(X_test, y_test)\n",
    "print(\"Test Error rate is : \",(1-score))\n",
    "print(\"Execution time: \", time.time()-start, \"seconds\")"
   ]
  },
  {
   "cell_type": "markdown",
   "metadata": {},
   "source": [
    "# ionosphere.txt and K = 3"
   ]
  },
  {
   "cell_type": "code",
   "execution_count": 543,
   "metadata": {},
   "outputs": [
    {
     "name": "stdout",
     "output_type": "stream",
     "text": [
      "Test Error rate is:  0.10227272727272728\n",
      "Execution time:  0.24436068534851074 seconds\n"
     ]
    }
   ],
   "source": [
    "import numpy as np\n",
    "import math\n",
    "import time\n",
    "from sklearn.datasets import load_iris\n",
    "from sklearn.model_selection import train_test_split\n",
    "\n",
    "def getDistances(X_test,X_train):\n",
    "    distances = []\n",
    "    \"\"\"Function to calculate Euclidian distance between the test data point and training data point\"\"\"\n",
    "    for j in range(X_test.shape[0]):\n",
    "        for i in range(X_train.shape[0]):    \n",
    "            distances.append(math.sqrt(sum(((X_test[j]-X_train[i])**2))))\n",
    "    distances = np.array(distances).reshape(X_test.shape[0],X_train.shape[0])# each row stores disnces to corresponding test set.eg. row0, contains distance between test set1 and 112 training data\n",
    "    return distances\n",
    "def getNeighborsIndex(distances,X_test,X_train,num_neighbors):\n",
    "    # finding nearest neighbors\n",
    "    neighbors_idx = np.array([])\n",
    "    for n in range(distances.shape[0]):    \n",
    "        neighbors_idx = np.append(neighbors_idx , np.argpartition(distances[n], num_neighbors))\n",
    "    neighbors_idx = neighbors_idx.reshape(X_test.shape[0],X_train.shape[0])#first 'num_neighbors' columns of the neighbors_idx contains the index of the nearest neighbors in training point\n",
    "    kneighbors_idx = neighbors_idx[:,:num_neighbors].astype(int)\n",
    "    return kneighbors_idx\n",
    "    \n",
    "def predictLabel(kneighbors_idx,num_neighbors=1):\n",
    "    #prediction:\n",
    "    yhat= np.array([])\n",
    "    for m in range(kneighbors_idx.shape[0]):\n",
    "        neighbors_label = []\n",
    "        for p in range(num_neighbors):\n",
    "            idx =  kneighbors_idx[m][p]#accessing neighbors index from kneighbors_idx array\n",
    "            neighbors_label.append(y_train[idx])#accessing the label of the neighbors from the ytrain\n",
    "        vote_dict = {q:neighbors_label.count(q) for q in neighbors_label}    \n",
    "        yhat = np.append(yhat,max(vote_dict, key=vote_dict.get))\n",
    "        yhat = yhat.astype(int)\n",
    "    return yhat\n",
    "\n",
    "start = time.time()\n",
    "X = np.genfromtxt(\"ionosphere.txt\", delimiter = \",\", usecols = np.arange(34))\n",
    "y = np.genfromtxt(\"ionosphere.txt\", delimiter = \",\", usecols = 34, dtype = int)\n",
    "X_train,X_test,y_train, y_test = train_test_split(X, y, random_state = 709)\n",
    "k = 3\n",
    "distances = getDistances(X_test,X_train)\n",
    "kneighbors_idx = getNeighborsIndex(distances,X_test,X_train,num_neighbors=k)\n",
    "yhat = predictLabel(kneighbors_idx,num_neighbors=k)\n",
    "print(\"Test Error rate is: \",np.mean(yhat!=y_test))\n",
    "print(\"Execution time: \", time.time()-start, \"seconds\")"
   ]
  },
  {
   "cell_type": "markdown",
   "metadata": {},
   "source": [
    "# Validating ionosphere.txt and K = 1"
   ]
  },
  {
   "cell_type": "code",
   "execution_count": 544,
   "metadata": {},
   "outputs": [
    {
     "name": "stdout",
     "output_type": "stream",
     "text": [
      "Test Error rate is :  0.10227272727272729\n",
      "Execution time:  0.034946441650390625 seconds\n"
     ]
    }
   ],
   "source": [
    "import numpy as np\n",
    "from sklearn.model_selection import train_test_split\n",
    "from sklearn.neighbors import KNeighborsClassifier\n",
    "from sklearn.datasets import load_iris\n",
    "import time\n",
    "start = time.time()\n",
    "X = np.genfromtxt(\"ionosphere.txt\", delimiter = \",\", usecols = np.arange(34))\n",
    "y = np.genfromtxt(\"ionosphere.txt\", delimiter = \",\", usecols = 34, dtype = int)\n",
    "knn = KNeighborsClassifier(n_neighbors = 3)\n",
    "X_train, X_test, y_train, y_test = train_test_split(X, y, random_state = 709)\n",
    "knn.fit(X_train, y_train)\n",
    "knn.predict(X_test)\n",
    "score = knn.score(X_test, y_test)\n",
    "print(\"Test Error rate is : \",(1-score))\n",
    "print(\"Execution time: \", time.time()-start, \"seconds\")"
   ]
  },
  {
   "cell_type": "markdown",
   "metadata": {},
   "source": [
    "# The average false p-value for the Nearest Neighbour conformal pre-dictor applied to iris.txt"
   ]
  },
  {
   "cell_type": "code",
   "execution_count": 566,
   "metadata": {},
   "outputs": [
    {
     "name": "stdout",
     "output_type": "stream",
     "text": [
      "Average False p-value for iris.txt is:  0.6326269212855147\n",
      "Execution time:  0.054965972900390625 seconds\n"
     ]
    },
    {
     "name": "stderr",
     "output_type": "stream",
     "text": [
      "C:\\Users\\ASUS\\Anaconda3\\lib\\site-packages\\ipykernel_launcher.py:12: RuntimeWarning: divide by zero encountered in double_scalars\n",
      "  if sys.path[0] == '':\n"
     ]
    }
   ],
   "source": [
    "#Conformal Predictors#Transductive classifier\n",
    "import numpy as np\n",
    "import math\n",
    "import time\n",
    "from sklearn.datasets import load_iris\n",
    "from sklearn.model_selection import train_test_split\n",
    "iris = load_iris()\n",
    "\n",
    "def getConformityMeausres(conformity_measure='ratio_of_distances',min_oppositeclass_neighbor_distance=1, min_sameclass_neighbor_distance=1, nearest_neighbor_distance=1):\n",
    "    try:\n",
    "        if conformity_measure == 'ratio_of_distances':\n",
    "            CM = min_oppositeclass_neighbor_distance/min_sameclass_neighbor_distance             \n",
    "            \n",
    "        if conformity_measure == 'oppositeclass_distance':\n",
    "            CM = min_oppositeclass_neighbor_distance\n",
    "        if conformity_measure == 'sameclass_distance':\n",
    "            CM = 1/min_sameclass_neighbor_distance\n",
    "        if conformity_measure == 'nearest_neighbor_distance':\n",
    "            CM = nearest_neighbor_distance\n",
    "    except:\n",
    "        print('Error in calculating conformity measure for {} th training data'.format(i)+str(p))\n",
    "        print(min_oppositeclass_neighbor_distance)\n",
    "        print(min_sameclass_neighbor_distance)\n",
    "    return CM\n",
    "\n",
    "X = np.genfromtxt(\"iris_data.txt\")\n",
    "y = np.genfromtxt(\"iris_target.txt\")\n",
    "X_train,X_test,y_train, y_test = train_test_split(X, y, random_state = 709)\n",
    "\n",
    "#X_train = np.array([[0,3],[2,2],[3,3],[-1,1],[-1,-1],[0,1]])\n",
    "#y_train = np.array([1,1,1,-1,-1,-1])\n",
    "#X_test = np.array([[0,0]])\n",
    "#y_test = np.array([1])\n",
    "start = time.time()\n",
    "labels = sorted(list(set(y_train)))\n",
    "conformity_measure = 'ratio_of_distances'\n",
    "alpha=[]\n",
    "\n",
    "X_fit = (X_train-X_train[:,None])**2\n",
    "X_distances = np.sqrt(X_fit.sum(axis=-1))#all diagonal elements are zero.\n",
    "for i in range(X_distances.shape[0]):\n",
    "    sameclass_distances = []\n",
    "    oppositeclass_distances = []\n",
    "    min_sameclass_neighbor_distance = 0\n",
    "    min_oppositeclass_neighbor_distance = 0\n",
    "    nearest_neighbor_distance = 0\n",
    "    sameclass_index = np.array(np.where(y_train == y_train[i]))\n",
    "    oppositeclass_index = list(set(np.arange(X_distances.shape[0]).flat)-set(sameclass_index.flat))\n",
    "    sameclass_index=list(sameclass_index.flat)\n",
    "    if (conformity_measure == 'ratio_of_distances') or (conformity_measure == 'oppositeclass_distance'):\n",
    "        for j in oppositeclass_index:\n",
    "            oppositeclass_distances.append(X_distances[i][j])\n",
    "        min_oppositeclass_neighbor_distance =oppositeclass_distances[np.argmin(oppositeclass_distances)]\n",
    "   \n",
    "    if (conformity_measure == 'ratio_of_distances') or (conformity_measure == 'sameclass_distance' ):\n",
    "        for k in sameclass_index:\n",
    "            sameclass_distances.append(X_distances[i][k])\n",
    "        min_sameclass_neighbor_distance = sameclass_distances[np.argpartition(sameclass_distances,2)[1]]#s 0 is the first min .we igore it and take second smallest\n",
    "    if (conformity_measure == 'nearest_neighbor_distance'):\n",
    "        nearest_neighbor_distance = X_distances[i,np.argpartition(X_distances[i],2)[1]]\n",
    "    alpha.append(getConformityMeausres(conformity_measure='ratio_of_distances',min_oppositeclass_neighbor_distance=min_oppositeclass_neighbor_distance, min_sameclass_neighbor_distance=min_sameclass_neighbor_distance))\n",
    "\n",
    "\n",
    "#************************************prediction part*****************************************\n",
    "p_values = []\n",
    "for p in range(X_test.shape[0]):\n",
    "    test_distances=[]\n",
    "    for q in range(X_train.shape[0]):\n",
    "        test_distances.append(math.sqrt(sum(((X_test[p]-X_train[q])**2))))\n",
    "    for test_label in labels:\n",
    "        test_sameclass_distances = []\n",
    "        test_oppositeclass_distances = []\n",
    "        test_min_sameclass_neighbor_distance = 0\n",
    "        test_min_oppositeclass_neighbor_distance = 0\n",
    "        test_nearest_neighbor_distance = 0\n",
    "        test_sameclass_index = np.array(np.where(y_train == test_label))\n",
    "        test_oppositeclass_index = list(set(np.arange(len(test_distances)).flat)-set(test_sameclass_index.flat))\n",
    "        test_sameclass_index=list(test_sameclass_index.flat)\n",
    "        if (conformity_measure == 'ratio_of_distances') or (conformity_measure == 'oppositeclass_distance'):\n",
    "            for r in test_oppositeclass_index:\n",
    "                test_oppositeclass_distances.append(test_distances[r])\n",
    "            test_min_oppositeclass_neighbor_distance = test_oppositeclass_distances[np.argmin(test_oppositeclass_distances)]\n",
    "        if (conformity_measure == 'ratio_of_distances') or (conformity_measure == 'sameclass_distance' ):\n",
    "            for s in test_sameclass_index:\n",
    "                test_sameclass_distances.append(test_distances[s])\n",
    "            test_min_sameclass_neighbor_distance = test_sameclass_distances[np.argmin(test_sameclass_distances)]\n",
    "        if conformity_measure == 'nearest_neighbor_distance':\n",
    "            test_nearest_neighbor_distance = test_distances[i,np.argmin(test_distances[p])]\n",
    "        if int(test_min_sameclass_neighbor_distance) == 0:\n",
    "            test_alpha = math.inf\n",
    "        else:\n",
    "            test_alpha=getConformityMeausres(conformity_measure='ratio_of_distances',min_oppositeclass_neighbor_distance=test_min_oppositeclass_neighbor_distance, min_sameclass_neighbor_distance=test_min_sameclass_neighbor_distance)\n",
    "        alpha.append(test_alpha)\n",
    "        sorted_alpha = list(set(sorted(alpha)))#removing the duplicates to find the ranks\n",
    "        rank_test_alpha = sorted_alpha.index(test_alpha)+1\n",
    "        p_values.append(rank_test_alpha/(X_train.shape[0]+1))\n",
    "        alpha.pop()\n",
    "        \n",
    "p_values = np.array(p_values).reshape(X_test.shape[0],len(labels))\n",
    "\n",
    "#***********False P value Calculation***************\n",
    "false_pvalues = np.zeros((X_test.shape[0],len(labels)-1))\n",
    "for u in range(p_values.shape[0]):   \n",
    "        for w in range(len(labels)):\n",
    "            if y_test[u] == labels[w]:                \n",
    "                false_pvalues[u]=np.delete(p_values[u],w)\n",
    "                break\n",
    "average_false_pvalue = (sum(sum(false_pvalues)))/false_pvalues.size\n",
    "print(\"Average False p-value for iris.txt is: \",average_false_pvalue)\n",
    "print(\"Execution time: \", time.time()-start, \"seconds\")\n"
   ]
  },
  {
   "cell_type": "markdown",
   "metadata": {},
   "source": [
    "# the average false p-value for the Nearest Neighbour conformal pre-dictor applied to ionosphere.txt."
   ]
  },
  {
   "cell_type": "code",
   "execution_count": 3,
   "metadata": {},
   "outputs": [
    {
     "name": "stdout",
     "output_type": "stream",
     "text": [
      "Average False p-value for ionosphere.txt is:  0.47753099173553726\n",
      "Execution time:  0.7199456691741943 seconds\n"
     ]
    }
   ],
   "source": [
    "#Conformal Predictors#Transductive classifier\n",
    "import numpy as np\n",
    "import math\n",
    "import time\n",
    "from sklearn.model_selection import train_test_split\n",
    "\n",
    "def getConformityMeausres(conformity_measure='ratio_of_distances',min_oppositeclass_neighbor_distance=1, min_sameclass_neighbor_distance=1, nearest_neighbor_distance=1):\n",
    "    try:\n",
    "        if conformity_measure == 'ratio_of_distances':\n",
    "            CM = min_oppositeclass_neighbor_distance/min_sameclass_neighbor_distance             \n",
    "            \n",
    "        if conformity_measure == 'oppositeclass_distance':\n",
    "            CM = min_oppositeclass_neighbor_distance\n",
    "        if conformity_measure == 'sameclass_distance':\n",
    "            CM = 1/min_sameclass_neighbor_distance\n",
    "        if conformity_measure == 'nearest_neighbor_distance':\n",
    "            CM = nearest_neighbor_distance\n",
    "    except:\n",
    "        print('Error in calculating conformity measure for {} th training data'.format(i)+str(p))\n",
    "        print(min_oppositeclass_neighbor_distance)\n",
    "        print(min_sameclass_neighbor_distance)\n",
    "    return CM\n",
    "\n",
    "X = np.genfromtxt(\"ionosphere.txt\", delimiter = \",\", usecols = np.arange(34))\n",
    "y = np.genfromtxt(\"ionosphere.txt\", delimiter = \",\", usecols = 34, dtype = int)\n",
    "X_train, X_test, y_train, y_test = train_test_split(X, y, random_state = 709)\n",
    "\n",
    "#X_train = np.array([[0,3],[2,2],[3,3],[-1,1],[-1,-1],[0,1]])\n",
    "#y_train = np.array([1,1,1,-1,-1,-1])\n",
    "#X_test = np.array([[0,0]])\n",
    "#y_test = np.array([1])\n",
    "start = time.time()\n",
    "\n",
    "labels = sorted(list(set(y_train)))\n",
    "conformity_measure = 'ratio_of_distances'\n",
    "alpha=[]\n",
    "\n",
    "X_fit = (X_train-X_train[:,None])**2\n",
    "X_distances = np.sqrt(X_fit.sum(axis=-1))#all diagonal elements are zero.\n",
    "for i in range(X_distances.shape[0]):\n",
    "    sameclass_distances = []\n",
    "    oppositeclass_distances = []\n",
    "    min_sameclass_neighbor_distance = 0\n",
    "    min_oppositeclass_neighbor_distance = 0\n",
    "    nearest_neighbor_distance = 0\n",
    "    sameclass_index = np.array(np.where(y_train == y_train[i]))\n",
    "    oppositeclass_index = list(set(np.arange(X_distances.shape[0]).flat)-set(sameclass_index.flat))\n",
    "    sameclass_index=list(sameclass_index.flat)\n",
    "    if (conformity_measure == 'ratio_of_distances') or (conformity_measure == 'oppositeclass_distance'):\n",
    "        for j in oppositeclass_index:\n",
    "            oppositeclass_distances.append(X_distances[i][j])\n",
    "        min_oppositeclass_neighbor_distance =oppositeclass_distances[np.argmin(oppositeclass_distances)]\n",
    "   \n",
    "    if (conformity_measure == 'ratio_of_distances') or (conformity_measure == 'sameclass_distance' ):\n",
    "        for k in sameclass_index:\n",
    "            sameclass_distances.append(X_distances[i][k])\n",
    "        min_sameclass_neighbor_distance = sameclass_distances[np.argpartition(sameclass_distances,2)[1]]#s 0 is the first min .we igore it and take second smallest\n",
    "    if (conformity_measure == 'nearest_neighbor_distance'):\n",
    "        nearest_neighbor_distance = X_distances[i,np.argpartition(X_distances[i],2)[1]]\n",
    "    alpha.append(getConformityMeausres(conformity_measure='ratio_of_distances',min_oppositeclass_neighbor_distance=min_oppositeclass_neighbor_distance, min_sameclass_neighbor_distance=min_sameclass_neighbor_distance))\n",
    "\n",
    "\n",
    "#************************************prediction part*****************************************\n",
    "p_values = []\n",
    "for p in range(X_test.shape[0]):\n",
    "    test_distances=[]\n",
    "    for q in range(X_train.shape[0]):\n",
    "        test_distances.append(math.sqrt(sum(((X_test[p]-X_train[q])**2))))\n",
    "    for test_label in labels:\n",
    "        test_sameclass_distances = []\n",
    "        test_oppositeclass_distances = []\n",
    "        test_min_sameclass_neighbor_distance = 0\n",
    "        test_min_oppositeclass_neighbor_distance = 0\n",
    "        test_nearest_neighbor_distance = 0\n",
    "        test_sameclass_index = np.array(np.where(y_train == test_label))\n",
    "        test_oppositeclass_index = list(set(np.arange(len(test_distances)).flat)-set(test_sameclass_index.flat))\n",
    "        test_sameclass_index=list(test_sameclass_index.flat)\n",
    "        if (conformity_measure == 'ratio_of_distances') or (conformity_measure == 'oppositeclass_distance'):\n",
    "            for r in test_oppositeclass_index:\n",
    "                test_oppositeclass_distances.append(test_distances[r])\n",
    "            test_min_oppositeclass_neighbor_distance = test_oppositeclass_distances[np.argmin(test_oppositeclass_distances)]\n",
    "        if (conformity_measure == 'ratio_of_distances') or (conformity_measure == 'sameclass_distance' ):\n",
    "            for s in test_sameclass_index:\n",
    "                test_sameclass_distances.append(test_distances[s])\n",
    "            test_min_sameclass_neighbor_distance = test_sameclass_distances[np.argmin(test_sameclass_distances)]\n",
    "        if conformity_measure == 'nearest_neighbor_distance':\n",
    "            test_nearest_neighbor_distance = test_distances[i,np.argmin(test_distances[p])]\n",
    "        if int(test_min_sameclass_neighbor_distance) == 0:\n",
    "            test_alpha = math.inf\n",
    "        else:\n",
    "            test_alpha=getConformityMeausres(conformity_measure='ratio_of_distances',min_oppositeclass_neighbor_distance=test_min_oppositeclass_neighbor_distance, min_sameclass_neighbor_distance=test_min_sameclass_neighbor_distance)\n",
    "        alpha.append(test_alpha)\n",
    "        sorted_alpha = list(set(sorted(alpha)))#removing the duplicates to find the ranks\n",
    "        rank_test_alpha = sorted_alpha.index(test_alpha)+1\n",
    "        p_values.append(rank_test_alpha/(X_train.shape[0]+1))\n",
    "        alpha.pop()\n",
    "        \n",
    "p_values = np.array(p_values).reshape(X_test.shape[0],len(labels))\n",
    "\n",
    "#***********False P value Calculation***************\n",
    "false_pvalues = np.zeros((X_test.shape[0],len(labels)-1))\n",
    "for u in range(p_values.shape[0]):   \n",
    "        for w in range(len(labels)):\n",
    "            if y_test[u] == labels[w]:                \n",
    "                false_pvalues[u]=np.delete(p_values[u],w)\n",
    "                break\n",
    "average_false_pvalue = (sum(sum(false_pvalues)))/false_pvalues.size\n",
    "print(\"Average False p-value for ionosphere.txt is: \",average_false_pvalue)\n",
    "print(\"Execution time: \", time.time()-start, \"seconds\")"
   ]
  },
  {
   "cell_type": "markdown",
   "metadata": {},
   "source": [
    "##Experiments with different conformity measures\n",
    "##lines 78 to 89 and the function getConformityMeausres handles diffrent conformity measures.Give the value of conformity measure to be used to the variable 'conformity_measure' at the begining of the script\n",
    "\n",
    "##Justifying your convention for 0/0\n",
    "Did not encountered a 0/0 situation.Instead faced a x/0 situation , when calculating conformity measure for a test data. Ie when minimum distance to same class becomes zero. That means X_train and X_test are same. Which shows that X+-test should have a maximum conformity measure.So I assigned math.inf as confmity measure. When sorted the test alha will have the highest rank.\n",
    "\n",
    "\n",
    "##Implementing the K Nearest Neighbours algorithm for a general K.\n",
    "The first cell of the this jupiter notebook involves the implementation of kNN algorithm for general K. Which asks the user to input the value of K\n",
    "\n"
   ]
  }
 ],
 "metadata": {
  "kernelspec": {
   "display_name": "Python 3",
   "language": "python",
   "name": "python3"
  },
  "language_info": {
   "codemirror_mode": {
    "name": "ipython",
    "version": 3
   },
   "file_extension": ".py",
   "mimetype": "text/x-python",
   "name": "python",
   "nbconvert_exporter": "python",
   "pygments_lexer": "ipython3",
   "version": "3.7.3"
  }
 },
 "nbformat": 4,
 "nbformat_minor": 2
}
